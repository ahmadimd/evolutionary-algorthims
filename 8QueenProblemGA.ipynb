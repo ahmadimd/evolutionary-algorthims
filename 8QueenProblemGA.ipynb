{
 "cells": [
  {
   "cell_type": "code",
   "execution_count": 7,
   "metadata": {},
   "outputs": [
    {
     "name": "stdout",
     "output_type": "stream",
     "text": [
      "[[6, 2, 8, 7, 5, 4, 3, 1], [3, 7, 4, 8, 1, 5, 2, 6], [7, 2, 3, 4, 5, 1, 8, 6], [5, 1, 4, 7, 2, 8, 6, 3], [3, 1, 8, 6, 7, 4, 5, 2], [5, 8, 3, 4, 1, 2, 7, 6], [3, 7, 5, 8, 1, 4, 6, 2], [3, 4, 1, 5, 7, 8, 2, 6], [3, 1, 6, 8, 4, 2, 7, 5], [2, 6, 7, 5, 8, 3, 4, 1], [5, 2, 8, 7, 1, 6, 4, 3], [5, 1, 8, 7, 2, 6, 4, 3], [5, 6, 8, 7, 4, 1, 3, 2], [6, 5, 2, 8, 3, 4, 1, 7], [8, 3, 5, 4, 6, 7, 1, 2], [7, 2, 3, 4, 1, 8, 5, 6], [6, 7, 1, 2, 4, 5, 8, 3], [2, 6, 3, 5, 1, 4, 8, 7], [6, 4, 8, 7, 3, 1, 5, 2], [7, 1, 3, 2, 5, 8, 4, 6], [6, 5, 4, 8, 2, 1, 3, 7], [3, 4, 5, 1, 6, 2, 8, 7], [8, 2, 5, 7, 3, 4, 1, 6], [4, 2, 3, 8, 5, 1, 7, 6], [2, 1, 4, 3, 5, 6, 8, 7], [5, 1, 2, 7, 3, 6, 4, 8], [4, 7, 6, 3, 2, 5, 1, 8], [4, 6, 7, 2, 5, 1, 8, 3], [6, 4, 7, 1, 2, 8, 5, 3], [7, 1, 3, 2, 5, 8, 6, 4], [8, 5, 3, 6, 2, 7, 1, 4], [7, 4, 8, 1, 6, 2, 3, 5], [7, 8, 1, 3, 2, 5, 6, 4], [3, 7, 1, 6, 2, 8, 5, 4], [3, 8, 4, 6, 7, 1, 5, 2], [1, 3, 2, 5, 6, 4, 8, 7], [5, 1, 8, 7, 4, 6, 2, 3], [5, 3, 2, 6, 4, 1, 8, 7], [7, 5, 6, 4, 3, 1, 8, 2], [6, 7, 1, 4, 5, 2, 3, 8], [5, 3, 1, 7, 8, 2, 4, 6], [2, 5, 3, 1, 4, 8, 7, 6], [2, 8, 1, 5, 3, 4, 7, 6], [7, 1, 2, 5, 6, 8, 4, 3], [6, 1, 3, 4, 7, 5, 2, 8], [1, 5, 6, 4, 7, 8, 3, 2], [1, 7, 5, 3, 8, 2, 4, 6], [4, 7, 1, 5, 6, 8, 2, 3], [1, 5, 7, 4, 3, 6, 2, 8], [1, 5, 4, 7, 3, 2, 8, 6], [1, 6, 7, 2, 3, 4, 5, 8], [1, 3, 8, 5, 4, 6, 2, 7], [3, 4, 1, 5, 8, 7, 2, 6], [3, 7, 6, 4, 1, 8, 2, 5], [8, 5, 3, 1, 2, 4, 6, 7], [3, 5, 1, 6, 7, 8, 4, 2], [4, 3, 6, 7, 1, 8, 5, 2], [7, 1, 6, 4, 5, 2, 8, 3], [4, 8, 7, 3, 6, 2, 5, 1], [2, 8, 7, 3, 1, 5, 4, 6], [6, 2, 5, 8, 1, 7, 3, 4], [1, 3, 7, 4, 6, 8, 5, 2], [8, 3, 6, 7, 5, 2, 4, 1], [3, 7, 2, 5, 4, 8, 6, 1], [2, 3, 8, 5, 6, 1, 7, 4], [4, 5, 8, 3, 1, 6, 2, 7], [2, 3, 7, 1, 4, 5, 6, 8], [2, 5, 6, 3, 8, 1, 4, 7], [2, 5, 4, 6, 3, 1, 7, 8], [1, 7, 3, 8, 5, 2, 6, 4], [8, 6, 7, 4, 3, 5, 1, 2], [5, 4, 2, 7, 1, 3, 8, 6], [5, 1, 7, 2, 3, 8, 4, 6], [6, 2, 1, 7, 4, 5, 3, 8], [7, 4, 8, 5, 1, 2, 3, 6], [6, 7, 8, 1, 3, 2, 4, 5], [5, 4, 3, 6, 8, 7, 2, 1], [2, 4, 8, 3, 5, 1, 7, 6], [2, 5, 4, 6, 7, 3, 1, 8], [4, 7, 6, 2, 3, 8, 1, 5], [4, 2, 5, 1, 6, 7, 8, 3], [5, 1, 2, 7, 6, 8, 4, 3], [1, 4, 2, 5, 7, 3, 6, 8], [1, 4, 2, 6, 7, 3, 8, 5], [3, 2, 6, 4, 7, 1, 8, 5], [5, 3, 7, 6, 1, 8, 2, 4], [3, 5, 4, 7, 2, 6, 8, 1], [4, 7, 5, 8, 1, 6, 2, 3], [5, 1, 7, 2, 4, 8, 6, 3], [4, 1, 5, 6, 3, 2, 7, 8], [1, 8, 5, 2, 7, 6, 3, 4], [7, 1, 8, 3, 2, 6, 4, 5], [4, 6, 5, 8, 2, 3, 7, 1], [7, 3, 1, 4, 2, 6, 8, 5], [5, 1, 3, 8, 4, 6, 7, 2], [5, 4, 7, 1, 6, 2, 8, 3], [4, 1, 2, 5, 8, 3, 7, 6], [7, 1, 8, 4, 3, 6, 2, 5], [5, 1, 4, 2, 7, 6, 8, 3], [3, 7, 4, 2, 5, 1, 6, 8]]\n"
     ]
    }
   ],
   "source": [
    "import numpy as np\n",
    "import random\n",
    "\n",
    "def Initialize(popsize):\n",
    "    population = []\n",
    "    for i in range(popsize):\n",
    "        chrom = list(np.random.permutation([1,2,3,4,5,6,7,8]))\n",
    "        population.append(chrom)\n",
    "    return population\n",
    "\n",
    "\n",
    "#print(Initialize(100))\n"
   ]
  },
  {
   "cell_type": "code",
   "execution_count": 8,
   "metadata": {},
   "outputs": [],
   "source": [
    "def Mutate(chrom):\n",
    "  rand = np.random.uniform()\n",
    "  if rand <= 0.8:\n",
    "    swappoints = [np.random.randint(0,8),np.random.randint(0,8)]\n",
    "    temp = chrom[swappoints[0]]\n",
    "    chrom[swappoints[0]] = chrom[swappoints[1]]\n",
    "    chrom[swappoints[1]] = temp\n",
    "  return chrom\n",
    "\n",
    "#print(Mutate([1, 5, 3, 6, 8, 2, 7, 4]))"
   ]
  },
  {
   "cell_type": "code",
   "execution_count": 9,
   "metadata": {},
   "outputs": [],
   "source": [
    "def Mutation(children):\n",
    "    mutated_children = []\n",
    "    for chrom in children:\n",
    "        mutated_children.append(Mutate(chrom))\n",
    "    return mutated_children\n",
    "\n",
    "#print(Mutation([[1, 5, 3, 6, 8, 2, 7, 4], [1, 5, 3, 6, 8, 2, 7, 4]]))"
   ]
  },
  {
   "cell_type": "code",
   "execution_count": 10,
   "metadata": {},
   "outputs": [],
   "source": [
    "import numpy as np\n",
    "def Recombination(parents):\n",
    "    parent1 = parents[0]\n",
    "    parent2 = parents[1]\n",
    "    crosspoint = np.random.randint(1,7)\n",
    "    child1 = parent1[:crosspoint]\n",
    "    child2 = parent2[:crosspoint]\n",
    "    for i in range(8):\n",
    "        if parent1[i] not in child2:\n",
    "            child2.append(parent1[i])\n",
    "        if parent2[i] not in child1:\n",
    "            child1.append(parent2[i])\n",
    "    offspring = [child1, child2]\n",
    "    return offspring\n",
    "\n",
    "#print(Recombination([[1, 5, 3, 6, 2, 8, 7, 4], [1, 5, 3, 6, 8, 2, 7, 4]]))"
   ]
  },
  {
   "cell_type": "code",
   "execution_count": 11,
   "metadata": {},
   "outputs": [],
   "source": [
    "def Selectparent(pop):\n",
    "    parents = random.sample(pop, 5)\n",
    "    sort_by_fitness = Sort_by_fitness(parents)\n",
    "    return sort_by_fitness[:2]\n",
    "\n",
    "#print(Selectparent(Initialize(100)))"
   ]
  },
  {
   "cell_type": "code",
   "execution_count": 12,
   "metadata": {},
   "outputs": [],
   "source": [
    "def Fitness_of_all(pop):\n",
    "    all_fitness = []\n",
    "    for chrom in pop:\n",
    "        all_fitness.append(Fitness(chrom))\n",
    "    return all_fitness"
   ]
  },
  {
   "cell_type": "code",
   "execution_count": 13,
   "metadata": {},
   "outputs": [],
   "source": [
    "def Fitness(chrom):\n",
    "  fitness = 0\n",
    "  for i in range(8):\n",
    "    #here we compute a single queen cost\n",
    "    cost = 0\n",
    "    for j in range(8):\n",
    "      if j == i:\n",
    "        continue\n",
    "      if chrom[j] < chrom[i] and chrom[j] + abs(i - j) == chrom[i]:\n",
    "        cost += 1\n",
    "      elif chrom[j] > chrom[i] and chrom[j] - abs(i - j) == chrom[i]:\n",
    "        cost += 1\n",
    "    fitness += cost\n",
    "  #now we have sum of all 8 queens cost\n",
    "  if fitness == 0:\n",
    "    return 2\n",
    "  return 1/fitness\n",
    "\n",
    "#print(Fitness([1,2,3,4,5,6,7,8]))"
   ]
  },
  {
   "cell_type": "code",
   "execution_count": 14,
   "metadata": {},
   "outputs": [],
   "source": [
    "def Sort_by_fitness(pop):\n",
    "    fitness = Fitness_of_all(pop)\n",
    "    zipped = zip(fitness, pop)\n",
    "    sort_by_fitness = sorted(zipped)\n",
    "    return [i for j, i in sort_by_fitness]"
   ]
  },
  {
   "cell_type": "code",
   "execution_count": 15,
   "metadata": {},
   "outputs": [],
   "source": [
    "def Servival_selection(pop, children):\n",
    "    sorted_pop = Sort_by_fitness(pop)\n",
    "    sorted_pop[0] = children[0]\n",
    "    sorted_pop[1] = children[1]\n",
    "    return sorted_pop"
   ]
  },
  {
   "cell_type": "code",
   "execution_count": 16,
   "metadata": {},
   "outputs": [],
   "source": [
    "def Print_board(chrom):\n",
    "  for i in range(8):\n",
    "    for j in range(8):\n",
    "      if j+1 == chrom[i]:\n",
    "        print(\"Q\", end='  ')\n",
    "      else:\n",
    "        print(\".\", end='  ')\n",
    "    print()\n",
    "\n",
    "#Print_board([4, 2, 7, 3, 6, 8, 5, 1])"
   ]
  },
  {
   "cell_type": "code",
   "execution_count": 24,
   "metadata": {},
   "outputs": [
    {
     "name": "stdout",
     "output_type": "stream",
     "text": [
      "Found Solution after 413 epochs!\n",
      "[4, 8, 1, 5, 7, 2, 6, 3]\n",
      ".  .  .  Q  .  .  .  .  \n",
      ".  .  .  .  .  .  .  Q  \n",
      "Q  .  .  .  .  .  .  .  \n",
      ".  .  .  .  Q  .  .  .  \n",
      ".  .  .  .  .  .  Q  .  \n",
      ".  Q  .  .  .  .  .  .  \n",
      ".  .  .  .  .  Q  .  .  \n",
      ".  .  Q  .  .  .  .  .  \n"
     ]
    }
   ],
   "source": [
    "population = Initialize(100)\n",
    "\n",
    "for i in range(1000):\n",
    "\n",
    "    if 2 in Fitness_of_all(population):\n",
    "        print(f\"Found Solution after {i +1} epochs!\")\n",
    "        print(Sort_by_fitness(population)[-1])\n",
    "        Print_board(Sort_by_fitness(population)[-1])\n",
    "        break\n",
    "    \n",
    "    selected_parents = Selectparent(population)\n",
    "\n",
    "    children = Recombination(selected_parents)\n",
    "\n",
    "    children = Mutation(children)\n",
    "\n",
    "    population = Servival_selection(population, children)\n",
    "\n",
    "    if i == 9999:\n",
    "        print(\"No Solution Found After 10000 Epochs!\")\n",
    "        print(\"But Here's What I've Got!\")\n",
    "        print(f\"Fitness = {Fitness(Sort_by_fitness(population)[-1])}\")\n",
    "        print(Sort_by_fitness(population)[-1])\n",
    "        Print_board(Sort_by_fitness(population)[-1])"
   ]
  }
 ],
 "metadata": {
  "interpreter": {
   "hash": "7d242f380c6d3d7d327aafe1611dc357e1280b352cbd9f31b25a3ac1bf4dbf26"
  },
  "kernelspec": {
   "display_name": "Python 3.9.1 64-bit ('base': conda)",
   "language": "python",
   "name": "python3"
  },
  "language_info": {
   "codemirror_mode": {
    "name": "ipython",
    "version": 3
   },
   "file_extension": ".py",
   "mimetype": "text/x-python",
   "name": "python",
   "nbconvert_exporter": "python",
   "pygments_lexer": "ipython3",
   "version": "3.9.1"
  },
  "orig_nbformat": 4
 },
 "nbformat": 4,
 "nbformat_minor": 2
}
